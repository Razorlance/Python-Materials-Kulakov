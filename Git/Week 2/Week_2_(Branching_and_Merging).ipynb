{
  "nbformat": 4,
  "nbformat_minor": 0,
  "metadata": {
    "colab": {
      "provenance": []
    },
    "kernelspec": {
      "name": "python3",
      "display_name": "Python 3"
    },
    "language_info": {
      "name": "python"
    }
  },
  "cells": [
    {
      "cell_type": "markdown",
      "source": [
        "# Week 2: Branching and Merging"
      ],
      "metadata": {
        "id": "cNMg5PEmboNM"
      }
    },
    {
      "cell_type": "markdown",
      "source": [
        "## Theory\n",
        "\n",
        "### What is a Branch?\n",
        "A branch in Git is a separate line of development. It allows you to diverge from the main line of development and continue to work without interfering with that main line.\n",
        "\n",
        "* **Why use branches?**\n",
        "  - To develop features or bug fixes independently.\n",
        "  - To experiment with new ideas without affecting the main project.\n",
        "  - To organize work and collaboration among team members.\n",
        "\n",
        "### Merging\n",
        "Merging is the process of combining the changes from different branches into a single branch. This allows you to incorporate the changes from feature branches into the main branch.\n",
        "\n",
        "* **Types of merges:**\n",
        "  - Fast-forward merge: When the target branch has not moved since branching, Git simply moves the branch pointer forward.\n",
        "  - Three-way merge: When there have been changes in both branches since the common ancestor, Git creates a new commit that combines changes from both branches.\n",
        "\n",
        "## Key Points\n",
        "- Branches allow for parallel development.\n",
        "- Merging integrates changes from different branches.\n",
        "- Understanding how to handle merge conflicts is crucial for collaborative work.\n"
      ],
      "metadata": {
        "id": "1EQaF27PW_VD"
      }
    },
    {
      "cell_type": "markdown",
      "source": [
        "## Code and Examples\n",
        "\n",
        "###Creating a Branch\n",
        "  ```bash\n",
        "  # List all branches\n",
        "  git branch\n",
        "\n",
        "  # Create a new branch\n",
        "  git branch new-branch\n",
        "\n",
        "  # Switch to the new branch\n",
        "  git checkout new-branch\n",
        "\n",
        "  # Create and switch to a new branch in one command\n",
        "  git checkout -b another-branch\n"
      ],
      "metadata": {
        "id": "IcSQDi6Nbkb-"
      }
    },
    {
      "cell_type": "markdown",
      "source": [
        "*Example Usage:* Use branches to work on new features or bug fixes independently from the main codebase."
      ],
      "metadata": {
        "id": "PunPyCH2bsLy"
      }
    },
    {
      "cell_type": "markdown",
      "source": [
        "### Merging Branches\n"
      ],
      "metadata": {
        "id": "4pqgm5lCbuV6"
      }
    },
    {
      "cell_type": "markdown",
      "source": [
        "\n",
        "\n",
        "```\n",
        "# Switch to the branch you want to merge into (usually main)\n",
        "git checkout main\n",
        "\n",
        "# Merge the branch into the current branch\n",
        "git merge new-branch\n",
        "```\n",
        "\n"
      ],
      "metadata": {
        "id": "2NHKm0gobyFT"
      }
    },
    {
      "cell_type": "markdown",
      "source": [
        "*Example Usage:* Merge feature branches into the main branch once the feature is complete and tested."
      ],
      "metadata": {
        "id": "KxGPW446b2RF"
      }
    },
    {
      "cell_type": "markdown",
      "source": [
        "### Resolving Merge Conflicts"
      ],
      "metadata": {
        "id": "Q0eqIA1lb9IT"
      }
    },
    {
      "cell_type": "markdown",
      "source": [
        "Sometimes, merging branches can result in conflicts that need to be resolved manually."
      ],
      "metadata": {
        "id": "93PNJSmjcBv0"
      }
    },
    {
      "cell_type": "markdown",
      "source": [
        "\n",
        "```\n",
        "# When a conflict occurs, Git will highlight the conflicting areas in the file\n",
        "\n",
        "# After resolving the conflict, add the resolved files\n",
        "git add conflicted-file\n",
        "\n",
        "# Commit the merge\n",
        "git commit -m \"Resolved merge conflicts\"\n",
        "\n",
        "```\n",
        "\n"
      ],
      "metadata": {
        "id": "WGbrIltzcSs5"
      }
    },
    {
      "cell_type": "markdown",
      "source": [
        "*Example Usage:* Resolve conflicts by editing the conflicting files, staging the changes, and committing the resolved merge."
      ],
      "metadata": {
        "id": "HdsdJbI2cZhA"
      }
    },
    {
      "cell_type": "markdown",
      "source": [
        "### Viewing Branches"
      ],
      "metadata": {
        "id": "HrD43bOSckn-"
      }
    },
    {
      "cell_type": "markdown",
      "source": [
        "```\n",
        "# List all branches\n",
        "git branch\n",
        "\n",
        "# List all branches (detailed)\n",
        "git branch -v\n",
        "```\n",
        "\n"
      ],
      "metadata": {
        "id": "qOu4xfWrcqmF"
      }
    },
    {
      "cell_type": "markdown",
      "source": [
        "*Example Usage:* Use git branch to see all branches in your repository and identify the current branch."
      ],
      "metadata": {
        "id": "pWPxCZnpcuAL"
      }
    },
    {
      "cell_type": "markdown",
      "source": [
        "## Homework\n"
      ],
      "metadata": {
        "id": "sBsvYJ2Kczsy"
      }
    },
    {
      "cell_type": "markdown",
      "source": [
        "1. Create a New Branch\n",
        "  * Create a new branch named feature-branch from your existing repository.\n",
        "  * Switch to feature-branch and make some changes to README.md.\n",
        "2. Commit Changes\n",
        "  * Commit the changes in feature-branch.\n",
        "3. Merge Branches\n",
        "\n",
        "  * Switch back to the main branch and merge feature-branch into main.\n",
        "  * Resolve any merge conflicts that arise and commit the merge.\n",
        "4. Branch Management\n",
        "  * List all branches and delete feature-branch once it is merged."
      ],
      "metadata": {
        "id": "koqAYAQmc4l_"
      }
    },
    {
      "cell_type": "markdown",
      "source": [
        "*Commands Recap:*\n",
        "```\n",
        "git branch          # List all branches\n",
        "git branch new-branch    # Create a new branch\n",
        "git checkout new-branch  # Switch to a new branch\n",
        "git checkout -b another-branch  # Create and switch to a new branch\n",
        "git merge new-branch    # Merge a branch\n",
        "git branch -d feature-branch  # Delete a branch\n",
        "\n",
        "```\n",
        "\n",
        "\n"
      ],
      "metadata": {
        "id": "jsWk6olbdT7I"
      }
    }
  ]
}